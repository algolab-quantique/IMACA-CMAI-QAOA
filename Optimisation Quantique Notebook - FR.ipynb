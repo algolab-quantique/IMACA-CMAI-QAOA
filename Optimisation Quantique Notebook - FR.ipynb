{
 "cells": [
  {
   "cell_type": "code",
   "execution_count": null,
   "metadata": {},
   "outputs": [],
   "source": [
    "!pip install qiskit\n",
    "!pip install qiskit_aer\n",
    "!pip install matplotlib\n",
    "!pip install networkx\n",
    "!pip install pylatexenc\n",
    "!pip install scipy"
   ]
  },
  {
   "cell_type": "code",
   "execution_count": null,
   "metadata": {},
   "outputs": [],
   "source": [
    "# This for Google Colab, so that we can import the files from the repository\n",
    "!git clone https://github.com/algolab-quantique/IMACA-CMAI-QAOA.git\n",
    "\n",
    "import sys\n",
    "\n",
    "sys.path.insert(0,'/content/IMACA-CMAI-QAOA')"
   ]
  },
  {
   "cell_type": "markdown",
   "metadata": {},
   "source": [
    "# Optimisation quantique avec QAOA\n",
    "\n",
    "Dans ce notebook nous allons voir :\n",
    "\n",
    "1) Comment préparer un **état quantique** à l'aide d'un **circuit quantique** en utilisant la classe `QuantumCircuit` de Qiskit.\n",
    "\n",
    "2) Comment construire un **observable** en utilisant le sous-module `quantum_info` de Qiskit.\n",
    "\n",
    "3) Comment estimer le **gain moyen** en mesurant la valeur moyenne d'un **observable** sur un **état quantique** donné.\n",
    "\n",
    "4) À quoi ressemble un **circuit variationnel** pour **QAOA**.\n",
    "\n",
    "5) Comment **optimiser** les paramètres d'un circuit variationnel.\n",
    "\n",
    "6) Comment le **nombre de répétitions** dans le circuit **QAOA** influence les résultats.\n",
    "\n",
    "7) Trouver des solutions **sans optimisation**."
   ]
  },
  {
   "cell_type": "markdown",
   "metadata": {},
   "source": [
    "## Installons quelques modules qui nous seront utiles"
   ]
  },
  {
   "cell_type": "code",
   "execution_count": null,
   "metadata": {},
   "outputs": [],
   "source": [
    "import networkx as nx\n",
    "\n",
    "from qiskit import QuantumCircuit, generate_preset_pass_manager\n",
    "from qiskit.circuit.library.n_local.qaoa_ansatz import QAOAAnsatz\n",
    "from qiskit.primitives import BackendEstimatorV2 as Estimator, BackendSamplerV2 as Sampler\n",
    "from qiskit.quantum_info import SparsePauliOp\n",
    "from qiskit.visualization import plot_histogram\n",
    "from qiskit_aer import AerSimulator\n",
    "from qiskit.circuit.library import PauliEvolutionGate\n",
    "\n",
    "from scipy.optimize import minimize"
   ]
  },
  {
   "cell_type": "code",
   "execution_count": null,
   "metadata": {},
   "outputs": [],
   "source": [
    "from qaoa_utils import *"
   ]
  },
  {
   "cell_type": "markdown",
   "metadata": {},
   "source": [
    "Vous devriez pouvoir éxécuter la cellule suivante si le fichier `qaoa_utils.py` se trouve dans le même dossier que ce notebook."
   ]
  },
  {
   "cell_type": "code",
   "execution_count": null,
   "metadata": {},
   "outputs": [],
   "source": [
    "test_function()"
   ]
  },
  {
   "cell_type": "markdown",
   "metadata": {},
   "source": [
    "## Préparation d'états quantiques\n",
    "\n",
    "Commençons avec la préparation d'un état quantique en programmant un circuit quantique. Préparons l'état $|01011\\rangle$."
   ]
  },
  {
   "cell_type": "code",
   "execution_count": null,
   "metadata": {},
   "outputs": [],
   "source": [
    "qc_trial_state = QuantumCircuit(5)\n",
    "qc_trial_state.x([0,1,3])\n",
    "qc_trial_state.draw(\"mpl\",scale=0.75)"
   ]
  },
  {
   "cell_type": "markdown",
   "metadata": {},
   "source": [
    "Nous pouvons vérifier que ce circuit prépare bien l'état désiré en simulant son éxécution à l'aide du simulateur `AerSimulator`. On utilise un `Sampler` pour échantillonner les résultats de mesure.\n",
    "\n",
    "La prochaine cellule ajoute des mesures au circuit `qc_trial_state`, simule son éxécution et retourne un dictionnaire qui décrit quels résultats on été obtenus et combien de fois chacun (`counts`)."
   ]
  },
  {
   "cell_type": "code",
   "execution_count": null,
   "metadata": {},
   "outputs": [],
   "source": [
    "qc_trial_state_with_meas = qc_trial_state.copy()\n",
    "qc_trial_state_with_meas.measure_all()\n",
    "\n",
    "simulator = AerSimulator()\n",
    "sampler = Sampler(backend=simulator) \n",
    "\n",
    "# On répète la préparation et la mesure du circuit 100 fois\n",
    "results = sampler.run([qc_trial_state_with_meas],shots=100).result() \n",
    "counts = results[0].data.meas.get_counts()\n",
    "\n",
    "print(f\"{counts = }\")"
   ]
  },
  {
   "cell_type": "markdown",
   "metadata": {},
   "source": [
    "### Exercice 1\n",
    "\n",
    "Programmer un circuit quantique qui permet de préparer l'état suivant. \n",
    "\n",
    "$ \\frac{1}{\\sqrt{2}} \\big( |11101\\rangle + |11001\\rangle \\big) $"
   ]
  },
  {
   "cell_type": "code",
   "execution_count": null,
   "metadata": {},
   "outputs": [],
   "source": [
    "qc_ex_1 = QuantumCircuit(5)\n",
    "# Votre code ici"
   ]
  },
  {
   "cell_type": "code",
   "execution_count": null,
   "metadata": {},
   "outputs": [],
   "source": [
    "exercise_superposition_state(qc_ex_1)"
   ]
  },
  {
   "cell_type": "markdown",
   "metadata": {},
   "source": [
    "## Construire un observable\n",
    "\n",
    "Utilisons le sous-module `quantum_info` pour construire des **observables**.\n",
    "\n",
    "La cellule suivante illustre comment construire le premier terme de l'observable de gain associé au lien entre les noeuds rouge et orange dans le graphe des super-héros."
   ]
  },
  {
   "cell_type": "code",
   "execution_count": null,
   "metadata": {},
   "outputs": [],
   "source": [
    "example_operator = SparsePauliOp(data=[\"IIIZZ\"], coeffs=[-0.5])\n",
    "print(example_operator)"
   ]
  },
  {
   "cell_type": "markdown",
   "metadata": {},
   "source": [
    "### Exercice 2\n",
    "\n",
    "Construisez l'opérateur de gain total pour le graphe complet du problème d'optimisation des super-héroes.\n",
    "$$\n",
    "    - \\frac{1}{2}\\hat{I}\\hat{I}\\hat{I}\\hat{Z}\\hat{Z}\n",
    "    - \\frac{1}{2}\\hat{I}\\hat{I}\\hat{Z}\\hat{I}\\hat{Z}\n",
    "    - \\frac{1}{2}\\hat{I}\\hat{I}\\hat{Z}\\hat{Z}\\hat{I}\n",
    "    - \\frac{1}{2}\\hat{Z}\\hat{I}\\hat{I}\\hat{Z}\\hat{I}\n",
    "    - \\frac{1}{2}\\hat{I}\\hat{Z}\\hat{Z}\\hat{I}\\hat{I} \n",
    "    - \\frac{1}{2}\\hat{Z}\\hat{Z}\\hat{I}\\hat{I}\\hat{I} \n",
    "    + \\frac{6}{2}\\hat{I}\\hat{I}\\hat{I}\\hat{I}\\hat{I}\n",
    "$$"
   ]
  },
  {
   "cell_type": "code",
   "execution_count": null,
   "metadata": {},
   "outputs": [],
   "source": [
    "gain_operator = None  # Completer l'observable\n",
    "\n",
    "exercise_gain_operator(gain_operator)"
   ]
  },
  {
   "cell_type": "markdown",
   "metadata": {},
   "source": [
    "## Estimer le gain moyen\n",
    "\n",
    "On combine un `QuantumCircuit` et un **observable** pour **estimer le gain moyen** à l'aide de Qiskit, $  \\langle\\psi|\\hat{G}|\\psi\\rangle $.\n",
    "\n",
    "On utiliser une `Estimator` pour estimer cette valeur moyenne sur un circuit **sans mesure**."
   ]
  },
  {
   "cell_type": "code",
   "execution_count": null,
   "metadata": {},
   "outputs": [],
   "source": [
    "data = [\"IIIZZ\", \"IIZIZ\", \"IIZZI\", \"ZIIZI\", \"IZZII\", \"ZZIII\", \"IIIII\"]\n",
    "coeffs = [-0.5,  -0.5, -0.5, -0.5, -0.5, -0.5, 0.5*6]\n",
    "\n",
    "gain_operator = SparsePauliOp(data=data, coeffs=coeffs)\n",
    "\n",
    "estimator = Estimator(backend=simulator)\n",
    "results = estimator.run([(qc_trial_state, gain_operator)]).result()\n",
    "average_gain = float(results[0].data.evs)\n",
    "\n",
    "print(qc_trial_state)\n",
    "\n",
    "print(f\"{average_gain = }\")"
   ]
  },
  {
   "cell_type": "markdown",
   "metadata": {},
   "source": [
    "### Exercice 3\n",
    "\n",
    "Estimer le gain moyen à l'aide de `gain_operator` pour l'état quantique $ \\frac{1}{\\sqrt{2}} \\big( |01011\\rangle + |11011\\rangle \\big)$. Vous devez d'abord construire le `QuantumCircuit` qui prépare cet état."
   ]
  },
  {
   "cell_type": "code",
   "execution_count": null,
   "metadata": {},
   "outputs": [],
   "source": [
    "qc_ex_3 = QuantumCircuit(5) \n",
    "### Construisez votre circuit ici\n",
    "\n",
    "###\n",
    "qc_ex_3.draw('mpl')"
   ]
  },
  {
   "cell_type": "code",
   "execution_count": null,
   "metadata": {},
   "outputs": [],
   "source": [
    "results = estimator.run([(qc_ex_3, gain_operator)]).result()\n",
    "average_gain = results[0].data.evs\n",
    "exercise_average_gain(average_gain)"
   ]
  },
  {
   "cell_type": "markdown",
   "metadata": {},
   "source": [
    "## Outil de visualisation de solution\n",
    "\n",
    "On vous fourni un outil de visualisation de solution. On doit fournir la forme du graphe comme un `Graph` de `networkx`. On doit également fournir une chaine de bits qui décrit la configuration des équipes. \n",
    "\n",
    "**Rappel** : Les chaines de bits se lisent de la droite vers la gauche.\n",
    "\n",
    "L'équipe 0 apparait comme des cercles blancs, et l'équipe 1, comme des cercles gris."
   ]
  },
  {
   "cell_type": "code",
   "execution_count": null,
   "metadata": {},
   "outputs": [],
   "source": [
    "graph = nx.Graph()\n",
    "graph.add_nodes_from([0,1,2,3,4])\n",
    "graph.add_edges_from([(0, 1), (0, 2), (1, 2), (1, 4), (2, 3), (3, 4)])\n",
    "\n",
    "x = '01011'  # correspond à l'état `qc_trial` définit précédemment \n",
    "print_solution_graph(graph, x)"
   ]
  },
  {
   "cell_type": "markdown",
   "metadata": {},
   "source": [
    "## Construction du circuit pour QAOA"
   ]
  },
  {
   "cell_type": "markdown",
   "metadata": {},
   "source": [
    "L'algorithme d'optimisation approximative quantique (QAOA) utilise une forme de circuit quantique particulière. Ce circuit dépend de l'observable de **coût**, qui est la valeur **négative** de l'observable de **gain**. Il contient également des paramètres qui seront ajustés dans une routine d'optimisation."
   ]
  },
  {
   "cell_type": "code",
   "execution_count": null,
   "metadata": {},
   "outputs": [],
   "source": [
    "cost_operator = - gain_operator\n",
    "print(cost_operator)"
   ]
  },
  {
   "cell_type": "markdown",
   "metadata": {},
   "source": [
    "1) Le circuit quantique de QAOA débute en appliquant des portes **Hadamard** sur tous les qubits pour préparer une **superposition** égale de tous les états afin d'exploiter le **parallélisme quantique**.\n",
    "\n",
    "2) Des séries de portes **RZZ** sont ensuite appliquées en suivant la structure de l'observable de **coût**.\n",
    "\n",
    "3) L'étape de **mélange** consiste en des rotations **RX** sur chacun des qubits.\n",
    "\n",
    "Les étapes 2 et 3 peuvent être répétées plusieurs fois grâce au paramètre `reps`.\n",
    "\n",
    "`Qiskit` fournit la classe `QAOAAnsatz` qui implémente cette structure. "
   ]
  },
  {
   "cell_type": "code",
   "execution_count": null,
   "metadata": {},
   "outputs": [],
   "source": [
    "qaoa_ansatz_1 = QAOAAnsatz(cost_operator, reps=1)\n",
    "\n",
    "qaoa_ansatz_1.draw('mpl', scale=0.75)"
   ]
  },
  {
   "cell_type": "code",
   "execution_count": null,
   "metadata": {},
   "outputs": [],
   "source": [
    "qaoa_ansatz_1.decompose(reps=1).draw('mpl', scale=0.75)"
   ]
  },
  {
   "cell_type": "markdown",
   "metadata": {},
   "source": [
    "On peut spécifier les portes et le type de porte qu'on veut décomposer."
   ]
  },
  {
   "cell_type": "code",
   "execution_count": null,
   "metadata": {},
   "outputs": [],
   "source": [
    "qaoa_ansatz_1.decompose([\"QAOA\", PauliEvolutionGate],reps=2).draw('mpl', scale=0.75)"
   ]
  },
  {
   "cell_type": "markdown",
   "metadata": {},
   "source": [
    "On peut également décomposer un circuit pour qu'il soit compatible avec un `backend`."
   ]
  },
  {
   "cell_type": "code",
   "execution_count": null,
   "metadata": {},
   "outputs": [],
   "source": [
    "pass_manager = generate_preset_pass_manager(simulator)\n",
    "isa_qaoa_ansatz_1 = pass_manager.run(qaoa_ansatz_1)\n",
    "isa_qaoa_ansatz_1.draw(\"mpl\",scale=0.75)"
   ]
  },
  {
   "cell_type": "code",
   "execution_count": null,
   "metadata": {},
   "outputs": [],
   "source": [
    "print(f\"Nombre de paramètres dans le circuit: {qaoa_ansatz_1.num_parameters}\")\n",
    "print(qaoa_ansatz_1.parameters)"
   ]
  },
  {
   "cell_type": "markdown",
   "metadata": {},
   "source": [
    "# Interprétation et visualisation des résultats\n",
    "\n",
    "L'objectif de l'algoritme QAOA est de préparer un état dont les amplitudes de probabilité les plus élevées correspondent aux solutions recherchées du problème.\n",
    "\n",
    "On explore cet espace d'états à l'aide des paramètres du circuit QAOA.\n",
    "\n",
    "Pour une valeur donnée des paramètres, on peut préparer et mesurer l'état correspondant plusieurs fois pour obtenir un petit nombre de solutions candidates qui pourront être vérifiées individuellement.\n",
    "\n",
    "On présente souvent les résultats d'un calcul quantique sous la forme d'un histogramme."
   ]
  },
  {
   "cell_type": "code",
   "execution_count": null,
   "metadata": {},
   "outputs": [],
   "source": [
    "params = np.random.random(qaoa_ansatz_1.num_parameters)\n",
    "print(f\"Valeur des paramètres: {params}\")\n",
    "\n",
    "isa_qaoa_ansatz_1_with_meas = isa_qaoa_ansatz_1.copy()\n",
    "isa_qaoa_ansatz_1_with_meas.measure_all()\n",
    "\n",
    "results = sampler.run([(isa_qaoa_ansatz_1_with_meas, params)]).result()\n",
    "counts = results[0].data.meas.get_counts()\n",
    "\n",
    "print(counts)"
   ]
  },
  {
   "cell_type": "code",
   "execution_count": null,
   "metadata": {
    "scrolled": false
   },
   "outputs": [],
   "source": [
    "plot_histogram(counts, figsize=(8,4))"
   ]
  },
  {
   "cell_type": "markdown",
   "metadata": {},
   "source": [
    "# Estimation de la valeur moyenne\n",
    "\n",
    "On peut calculer la valeur moyenne de l'opérateur de coût pour l'état quantique préparé par le circuit QAOA\n",
    "\n",
    "$  \\langle\\psi_\\text{QAOA}(\\boldsymbol{\\beta},\\boldsymbol{\\gamma})|\\hat{C}|\\psi_\\text{QAOA}(\\boldsymbol{\\beta},\\boldsymbol{\\gamma})\\rangle $.\n",
    "\n",
    "La classe `Estimator` de Qiskit nous permet d'estimer cette valeur moyenne."
   ]
  },
  {
   "cell_type": "code",
   "execution_count": null,
   "metadata": {},
   "outputs": [],
   "source": [
    "estimator = Estimator(backend=simulator)\n",
    "\n",
    "job = estimator.run([(isa_qaoa_ansatz_1, cost_operator, params)])\n",
    "valeur_moyenne = job.result()[0].data.evs\n",
    "\n",
    "print(f\"Valeur moyenne: {valeur_moyenne}\")"
   ]
  },
  {
   "cell_type": "markdown",
   "metadata": {},
   "source": [
    "## Optimisation des paramètres du circuit quantique de QAOA\n",
    "\n",
    "On veut maintenant automatiser la recherche des meilleurs paramètres pour le circuit QAOA. Pour cela on doit cependant :\n",
    "\n",
    "1) Définir la fonction à optimiser.\n",
    "\n",
    "2) Éxécuter le processus d'optimisation avec un optimiseur classique qui choisira quels paramètres essayer dans le circuit\n",
    "\n",
    "3) Extraire une solution comme étant l'état le plus probable."
   ]
  },
  {
   "cell_type": "code",
   "execution_count": null,
   "metadata": {},
   "outputs": [],
   "source": [
    "# 1. Définir la fonction de coût classique à optimiser\n",
    "\n",
    "def cost_function(\n",
    "    params: list[complex], estimator: Estimator, circuit: QuantumCircuit, cost_operator: SparsePauliOp\n",
    ") -> float:\n",
    "\n",
    "    job = estimator.run([(circuit, cost_operator, params)])\n",
    "    cout = job.result()[0].data.evs\n",
    "    return cout"
   ]
  },
  {
   "cell_type": "code",
   "execution_count": null,
   "metadata": {},
   "outputs": [],
   "source": [
    "params_init = np.zeros(qaoa_ansatz_1.num_parameters)\n",
    "\n",
    "# 2. Éxécuter le processus d'optimisation à l'aide de la méthode COBYLA de Scipy\n",
    "res_opt = minimize(\n",
    "    cost_function, params_init, args=(estimator, isa_qaoa_ansatz_1, cost_operator), method=\"COBYLA\"\n",
    ")\n",
    "\n",
    "# 3. Extraction des informations suite à l'optimisation\n",
    "cout_opt = res_opt.fun  # Cout optimal trouvé\n",
    "params_opt = res_opt.x  # Paramètres optimaux trouvés\n",
    "\n",
    "# Affichage des résultats obtenus\n",
    "print(\"Cout optimal trouvé :\", cout_opt)\n",
    "print(\"Paramètres optimaux trouvés :\", params_opt)"
   ]
  },
  {
   "cell_type": "markdown",
   "metadata": {},
   "source": [
    "Lorsqu'on a obtenu les paramètres optimaux - c'est-à-dire ceux qui minimisent la valeur moyenne de l'observable de coût - on prépare l'état quantique correspondant et on obtient les solutions optimales."
   ]
  },
  {
   "cell_type": "code",
   "execution_count": null,
   "metadata": {},
   "outputs": [],
   "source": [
    "isa_qaoa_ansatz_1_opt = isa_qaoa_ansatz_1.assign_parameters(params_opt)\n",
    "isa_qaoa_ansatz_1_opt.draw('mpl', scale=0.75)"
   ]
  },
  {
   "cell_type": "code",
   "execution_count": null,
   "metadata": {},
   "outputs": [],
   "source": [
    "isa_qaoa_ansatz_1_opt.measure_all()\n",
    "\n",
    "final_counts = simulator.run(isa_qaoa_ansatz_1_opt.decompose(reps=2)).result().get_counts()\n",
    "\n",
    "plot_histogram(final_counts, figsize=(8,4))"
   ]
  },
  {
   "cell_type": "code",
   "execution_count": null,
   "metadata": {},
   "outputs": [],
   "source": [
    "maximum_prob_state = max(final_counts, key=final_counts.get)\n",
    "print(\"État de base avec la plus grande probabilité: \", maximum_prob_state)"
   ]
  },
  {
   "cell_type": "code",
   "execution_count": null,
   "metadata": {},
   "outputs": [],
   "source": [
    "print_solution_graph(graph, maximum_prob_state)"
   ]
  },
  {
   "cell_type": "markdown",
   "metadata": {},
   "source": [
    "### Remarque\n",
    "\n",
    "Lorsqu'on utilise un petit nombre de répétitions, l'algorithme QAOA ne retourne pas toujours une bonne solution. Aussi, les bonnes solutions ne se distinguent pas toujours très bien des mauvaises. On va maintenant voir l'effet d'un plus grand nombre de répétitions."
   ]
  },
  {
   "cell_type": "markdown",
   "metadata": {},
   "source": [
    "## Effet du nombre de répétitions\n",
    "\n",
    "Testons QAOA pour le même problème mais utilisons plus de répétitions."
   ]
  },
  {
   "cell_type": "code",
   "execution_count": null,
   "metadata": {},
   "outputs": [],
   "source": [
    "# Créer le circuit paramétré QAOA avec 8 répétitions\n",
    "qaoa_ansatz_8 = QAOAAnsatz(cost_operator, reps=8)\n",
    "isa_qaoa_ansatz_8 = pass_manager.run(qaoa_ansatz_8)\n",
    "\n",
    "# Initialiser la valeur initiale des paramètres à 0\n",
    "params_init = np.zeros(isa_qaoa_ansatz_8.num_parameters)\n",
    "\n",
    "# Trouver la valeur des angles qui minimisent l'opérateur de coût\n",
    "res_opt = minimize(\n",
    "    cost_function, params_init, args=(estimator, isa_qaoa_ansatz_8, cost_operator), method=\"COBYLA\"\n",
    ")\n",
    "\n",
    "# Extraire des informations suite à l'optimisation\n",
    "cout_opt = res_opt.fun  # Coût optimal trouvé\n",
    "params_opt = res_opt.x  # Paramètres optimaux trouvés\n",
    "\n",
    "# Préparer le circuit avec des mesures\n",
    "isa_qaoa_ansatz_8_with_meas = isa_qaoa_ansatz_8.copy()\n",
    "isa_qaoa_ansatz_8_with_meas.measure_all()\n",
    "\n",
    "# Échantilonner cet état\n",
    "results = sampler.run([(isa_qaoa_ansatz_8_with_meas,params_opt)],shots=1024).result()\n",
    "final_counts = results[0].data.meas.get_counts()\n",
    "\n",
    "# plot the histogram\n",
    "plot_histogram(final_counts, figsize=(8,4))"
   ]
  },
  {
   "cell_type": "code",
   "execution_count": null,
   "metadata": {},
   "outputs": [],
   "source": [
    "maximum_prob_state = max(final_counts, key=final_counts.get)\n",
    "print(\"État de base avec la plus grande probabilité: \", maximum_prob_state)"
   ]
  },
  {
   "cell_type": "code",
   "execution_count": null,
   "metadata": {},
   "outputs": [],
   "source": [
    "print_solution_graph(graph, maximum_prob_state)"
   ]
  },
  {
   "cell_type": "markdown",
   "metadata": {},
   "source": [
    "## Observations\n",
    "\n",
    "Vous remarquerez que QAOA ne converge pas sur une bonne solution à tous les coups. Cet algorithme ne s'appelle pas _Algorithme d'Optimisation **Approximative** Quantique_ pour rien!\n",
    "\n",
    "Cependant, pour des problèmes très complexes, où le nombre de configurations possibles est exponentiellement grand, QAOA pourrait permettre de suggérer des solutions dont la validité est ensuite facile à vérifier."
   ]
  },
  {
   "cell_type": "markdown",
   "metadata": {},
   "source": [
    "# Sans optimisation\n",
    "\n",
    "En se basant sur la théorie du recuit quantique (_quantum annealing_), il est possible de calculer classiquement un ensemble de paramètres qui permet d'obtenir une valeur moyenne qui s'approche d'un résultat optimal. Il n'est cependant pas clair si cet approche continue de fonctionner pour des systèmes de plus grande taille."
   ]
  },
  {
   "cell_type": "code",
   "execution_count": null,
   "metadata": {},
   "outputs": [],
   "source": [
    "num_layers = 3\n",
    "\n",
    "annealing_ansatz = QAOAAnsatz(cost_operator, reps=num_layers)\n",
    "\n",
    "linear_ramp = np.linspace(0,1,num_layers+2)[1:-1]\n",
    "print(linear_ramp)\n",
    "\n",
    "betas = -linear_ramp[::-1]\n",
    "gammas = linear_ramp\n",
    "\n",
    "print(f\"{betas = }\")\n",
    "print(f\"{gammas = }\")\n",
    "\n",
    "annealing_circuit = annealing_ansatz.assign_parameters(np.concatenate((betas, gammas)))\n",
    "annealing_circuit.measure_all()\n",
    "annealing_circuit.decompose(reps=1).draw(\"mpl\", scale=0.75)"
   ]
  },
  {
   "cell_type": "code",
   "execution_count": null,
   "metadata": {},
   "outputs": [],
   "source": [
    "# Préparer un circuit compatible\n",
    "isa_annealing_circuit = pass_manager.run(annealing_circuit)\n",
    "\n",
    "# Échantilonner cet état\n",
    "results = sampler.run([isa_annealing_circuit],shots=1024).result()\n",
    "final_counts = results[0].data.meas.get_counts()\n",
    "\n",
    "plot_histogram(final_counts, figsize=(8,4))"
   ]
  },
  {
   "cell_type": "code",
   "execution_count": null,
   "metadata": {},
   "outputs": [],
   "source": []
  }
 ],
 "metadata": {
  "kernelspec": {
   "display_name": "qiskit",
   "language": "python",
   "name": "python3"
  },
  "language_info": {
   "codemirror_mode": {
    "name": "ipython",
    "version": 3
   },
   "file_extension": ".py",
   "mimetype": "text/x-python",
   "name": "python",
   "nbconvert_exporter": "python",
   "pygments_lexer": "ipython3",
   "version": "3.12.8"
  }
 },
 "nbformat": 4,
 "nbformat_minor": 2
}
